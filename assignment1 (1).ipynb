{
 "cells": [
  {
   "cell_type": "code",
   "execution_count": 1,
   "id": "0cee692a-74a3-41c7-8fb9-ed2c3b4d4afe",
   "metadata": {},
   "outputs": [],
   "source": [
    "answer1 \n",
    "1) There are two types of comment in python \n",
    "a) single line comment \n",
    "b) multiline comments \n",
    "for single line comment we use #\n",
    "and for multiline comment we use ''' or \"\"\""
   ]
  },
  {
   "cell_type": "code",
   "execution_count": 2,
   "id": "7b79c771-ea40-458a-bc85-af0122e67d9d",
   "metadata": {},
   "outputs": [],
   "source": [
    "answer 2\n",
    "In python varibale is a symoblic name refer to thet value\n",
    "to declare valribale we use\n",
    "a=5"
   ]
  },
  {
   "cell_type": "code",
   "execution_count": 5,
   "id": "f4e2465f-9bc5-4053-b6ed-baf81babf770",
   "metadata": {},
   "outputs": [],
   "source": [
    "answer 3\n",
    "to convert onw datatype into another we use type casting for example\n",
    "s=\"123\"\n",
    "s=int(s)\n"
   ]
  },
  {
   "cell_type": "code",
   "execution_count": 6,
   "id": "dc9d7897-de12-4199-a009-f18958f66084",
   "metadata": {},
   "outputs": [],
   "source": [
    "answer 4\n",
    " we first create a file (e.g., myscript.py) with your code. Execute it from the command line using python myscript.py (or python3 on some systems).\n",
    "\n",
    "\n",
    "\n",
    "\n",
    "\n"
   ]
  },
  {
   "cell_type": "code",
   "execution_count": 9,
   "id": "d27601f4-4adb-4ae7-9861-156d4d1e8f98",
   "metadata": {},
   "outputs": [],
   "source": [
    "# answer5\n",
    "my_list= [1,2,3,4,5]"
   ]
  },
  {
   "cell_type": "code",
   "execution_count": 10,
   "id": "07440974-52ae-43c8-875e-ce092a0fa099",
   "metadata": {},
   "outputs": [
    {
     "data": {
      "text/plain": [
       "[2, 3]"
      ]
     },
     "execution_count": 10,
     "metadata": {},
     "output_type": "execute_result"
    }
   ],
   "source": [
    "my_list[1:3]"
   ]
  },
  {
   "cell_type": "code",
   "execution_count": 15,
   "id": "2dcb649d-eb4c-443e-85a3-8a06518e2380",
   "metadata": {},
   "outputs": [],
   "source": [
    "answer 6\n",
    "In mathematics, a complex number is a number of the form a+ib wher a,b is real number and i is imaginary unit\n",
    "a=10+20j\n",
    "a.real for# real number \n",
    "a.imag for #imaginary number "
   ]
  },
  {
   "cell_type": "code",
   "execution_count": 16,
   "id": "3650e6c7-2e24-4981-9a05-10a1ac959f2f",
   "metadata": {},
   "outputs": [],
   "source": [
    "# answer 7\n",
    "age=25"
   ]
  },
  {
   "cell_type": "code",
   "execution_count": 19,
   "id": "30a2d7a6-7040-4f7d-ba89-d387b56cbf70",
   "metadata": {},
   "outputs": [],
   "source": [
    "# answer 8\n",
    "price=9.99\n",
    "\n",
    "# type(price) is used to find the type of price\n",
    "#  so the type is float\n"
   ]
  },
  {
   "cell_type": "code",
   "execution_count": 20,
   "id": "db9142c9-21e0-4fd8-af14-25063f328759",
   "metadata": {},
   "outputs": [
    {
     "name": "stdout",
     "output_type": "stream",
     "text": [
      "izra zubair\n"
     ]
    }
   ],
   "source": [
    "# answer 9\n",
    "name=\"izra zubair\"\n",
    "print(name)"
   ]
  },
  {
   "cell_type": "code",
   "execution_count": 22,
   "id": "cdc1062e-7d5f-4c2a-a670-039de7a7bc36",
   "metadata": {},
   "outputs": [],
   "source": [
    "# answer 10 :\n",
    "s=\"hello,world!\""
   ]
  },
  {
   "cell_type": "code",
   "execution_count": 24,
   "id": "578b0ec0-d332-4c7e-8a26-3086f7ec83c0",
   "metadata": {},
   "outputs": [
    {
     "data": {
      "text/plain": [
       "'world'"
      ]
     },
     "execution_count": 24,
     "metadata": {},
     "output_type": "execute_result"
    }
   ],
   "source": [
    "s[6:11]"
   ]
  },
  {
   "cell_type": "code",
   "execution_count": 25,
   "id": "9204c3ab-bb51-4d0e-850f-7f645ba8a970",
   "metadata": {},
   "outputs": [
    {
     "name": "stdout",
     "output_type": "stream",
     "text": [
      "you are currently a student \n"
     ]
    }
   ],
   "source": [
    "#  answer 11 \n",
    "is_student=True\n",
    "#  set true if you are a student otherwise set value to False\n",
    "if is_student == True:\n",
    "    print(\"you are currently a student \")\n",
    "else:\n",
    "    print(\"no\")"
   ]
  },
  {
   "cell_type": "code",
   "execution_count": null,
   "id": "6047a031-ca41-416e-97d0-e535c1db82a2",
   "metadata": {},
   "outputs": [],
   "source": []
  }
 ],
 "metadata": {
  "kernelspec": {
   "display_name": "Python 3 (ipykernel)",
   "language": "python",
   "name": "python3"
  },
  "language_info": {
   "codemirror_mode": {
    "name": "ipython",
    "version": 3
   },
   "file_extension": ".py",
   "mimetype": "text/x-python",
   "name": "python",
   "nbconvert_exporter": "python",
   "pygments_lexer": "ipython3",
   "version": "3.10.8"
  }
 },
 "nbformat": 4,
 "nbformat_minor": 5
}
