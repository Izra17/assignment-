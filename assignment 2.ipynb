{
 "cells": [
  {
   "cell_type": "code",
   "execution_count": 1,
   "id": "b9e42967-784e-4319-aada-97b73656a6a6",
   "metadata": {},
   "outputs": [],
   "source": [
    "#answer 1\n",
    "# (i) string \n",
    "s=\"izra\"\n",
    "# for list\n",
    "list=[1,2,3,4,5]\n",
    "#for float \n",
    "f=2.2\n",
    "#for tuple\n",
    "t=(2,3,4,5,\"izra\",4.5)"
   ]
  },
  {
   "cell_type": "code",
   "execution_count": 3,
   "id": "57810cd6-f8b0-40cc-9775-7b1cef2e7b24",
   "metadata": {},
   "outputs": [],
   "source": [
    "#answer 2\n",
    "var1= str\n",
    "var2=str\n",
    "var3=list\n",
    "var4=int"
   ]
  },
  {
   "cell_type": "code",
   "execution_count": 4,
   "id": "a386c578-0846-4881-9cad-4a9881267610",
   "metadata": {},
   "outputs": [
    {
     "data": {
      "text/plain": [
       "1.25"
      ]
     },
     "execution_count": 4,
     "metadata": {},
     "output_type": "execute_result"
    }
   ],
   "source": [
    "#answer 3\n",
    "# 1)division operator\n",
    "5/4\n"
   ]
  },
  {
   "cell_type": "code",
   "execution_count": 5,
   "id": "62cf18be-17f7-4782-a636-168e28939dff",
   "metadata": {},
   "outputs": [
    {
     "data": {
      "text/plain": [
       "1"
      ]
     },
     "execution_count": 5,
     "metadata": {},
     "output_type": "execute_result"
    }
   ],
   "source": [
    "#answer3 second part \n",
    "# Returns the remainder when the left operand is divided by the right operand.\n",
    "5%4"
   ]
  },
  {
   "cell_type": "code",
   "execution_count": 6,
   "id": "bc597437-f10a-4055-9264-942baa0ca152",
   "metadata": {},
   "outputs": [
    {
     "data": {
      "text/plain": [
       "1"
      ]
     },
     "execution_count": 6,
     "metadata": {},
     "output_type": "execute_result"
    }
   ],
   "source": [
    "#answer 3 part 4\n",
    "# Performs division where the result is rounded down to the nearest whole number.\n",
    "5//4"
   ]
  },
  {
   "cell_type": "code",
   "execution_count": 7,
   "id": "ee531507-ec3a-4264-a937-b992bba6a457",
   "metadata": {},
   "outputs": [
    {
     "data": {
      "text/plain": [
       "625"
      ]
     },
     "execution_count": 7,
     "metadata": {},
     "output_type": "execute_result"
    }
   ],
   "source": [
    "# answer 3 part 4\n",
    "# it is used for exponent \n",
    "5**4"
   ]
  },
  {
   "cell_type": "code",
   "execution_count": 9,
   "id": "a7806803-a5ed-4b90-b020-ff010ed0bdf8",
   "metadata": {},
   "outputs": [
    {
     "name": "stdout",
     "output_type": "stream",
     "text": [
      "1\n",
      "2\n",
      "3\n",
      "4\n",
      "5\n",
      "6.6\n",
      "izra\n",
      "pwskills\n",
      "hello\n",
      "True\n"
     ]
    }
   ],
   "source": [
    "# answer 4 \n",
    "l1=[]\n",
    "l=[1,2,3,4,5,6.6,\"izra\",\"pwskills\",\"hello\",True]\n",
    "for i in l:\n",
    "    print (i)\n",
    "    l1.append(type(i))\n",
    "    "
   ]
  },
  {
   "cell_type": "code",
   "execution_count": 10,
   "id": "1043f2c1-d825-45da-a9db-82a385d7f907",
   "metadata": {},
   "outputs": [
    {
     "data": {
      "text/plain": [
       "[int, int, int, int, int, float, str, str, str, bool]"
      ]
     },
     "execution_count": 10,
     "metadata": {},
     "output_type": "execute_result"
    }
   ],
   "source": [
    "l1"
   ]
  },
  {
   "cell_type": "code",
   "execution_count": 11,
   "id": "cc238f4c-bb1c-4667-88c1-92701ca95496",
   "metadata": {},
   "outputs": [
    {
     "name": "stdin",
     "output_type": "stream",
     "text": [
      "Enter the dividend (A):  34\n",
      "Enter the divisor (B):  56\n"
     ]
    },
    {
     "name": "stdout",
     "output_type": "stream",
     "text": [
      "A is not divisible by B.\n"
     ]
    }
   ],
   "source": [
    "# answer 5\n",
    "A = int(input(\"Enter the dividend (A): \"))\n",
    "B = int(input(\"Enter the divisor (B): \"))\n",
    "\n",
    "# Initializing a counter for the number of divisions\n",
    "divisions = 0\n",
    "\n",
    "# Using a while loop to check for divisibility\n",
    "while A % B == 0:\n",
    "    A //= B  # Update A to the result of the division\n",
    "    divisions += 1\n",
    "\n",
    "# Printing the result\n",
    "if divisions > 0:\n",
    "    print(f\"{divisions} times divisible.\")\n",
    "else:\n",
    "    print(\"A is not divisible by B.\")"
   ]
  },
  {
   "cell_type": "code",
   "execution_count": 12,
   "id": "c892380e-e086-4a3b-a3eb-3e2ee17eb3e5",
   "metadata": {},
   "outputs": [
    {
     "name": "stdout",
     "output_type": "stream",
     "text": [
      "number is divisible by 3\n",
      "number is divisible by 3\n",
      "not divisible by 3\n",
      "not divisible by 3\n",
      "number is divisible by 3\n",
      "not divisible by 3\n",
      "number is divisible by 3\n",
      "number is divisible by 3\n",
      "number is divisible by 3\n",
      "number is divisible by 3\n",
      "number is divisible by 3\n",
      "number is divisible by 3\n",
      "number is divisible by 3\n",
      "number is divisible by 3\n",
      "number is divisible by 3\n",
      "number is divisible by 3\n",
      "number is divisible by 3\n",
      "number is divisible by 3\n",
      "number is divisible by 3\n",
      "number is divisible by 3\n",
      "number is divisible by 3\n",
      "number is divisible by 3\n",
      "number is divisible by 3\n",
      "number is divisible by 3\n",
      "number is divisible by 3\n"
     ]
    }
   ],
   "source": [
    "# ANSWER 6\n",
    "l=[12,21,34,56,78,2, 6, 9, 12, 15, 18, 21, 24, 27, 30, 33, 36, 39,  45, 60, 63, 66, 69, 72, 75]\n",
    "for i in l :\n",
    "    if i%3==0:\n",
    "        print(\"number is divisible by 3\")\n",
    "    else:\n",
    "        print(\"not divisible by 3\")"
   ]
  },
  {
   "cell_type": "code",
   "execution_count": 14,
   "id": "6dfdea16-fb8e-4c2e-af58-ad31b625c23c",
   "metadata": {},
   "outputs": [],
   "source": [
    "ans 7\n",
    "mutable: Like a changeable puzzle, you can modify its pieces after its made.\n",
    "example: Lists, arrays, dictionaries.\n",
    "Immutable: Like a finished puzzle, you cannot  change its pieces once its done.\n",
    "Examples: Numbers, strings, tuples\n"
   ]
  },
  {
   "cell_type": "code",
   "execution_count": null,
   "id": "fb83276e-7d15-4600-8ee5-10b01e79039c",
   "metadata": {},
   "outputs": [],
   "source": []
  }
 ],
 "metadata": {
  "kernelspec": {
   "display_name": "Python 3 (ipykernel)",
   "language": "python",
   "name": "python3"
  },
  "language_info": {
   "codemirror_mode": {
    "name": "ipython",
    "version": 3
   },
   "file_extension": ".py",
   "mimetype": "text/x-python",
   "name": "python",
   "nbconvert_exporter": "python",
   "pygments_lexer": "ipython3",
   "version": "3.10.8"
  }
 },
 "nbformat": 4,
 "nbformat_minor": 5
}
